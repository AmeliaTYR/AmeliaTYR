{
  "nbformat": 4,
  "nbformat_minor": 0,
  "metadata": {
    "colab": {
      "name": "Demo 1: Introduction To Machine Learning.ipynb",
      "provenance": [],
      "collapsed_sections": [],
      "include_colab_link": true
    },
    "kernelspec": {
      "name": "python3",
      "display_name": "Python 3"
    },
    "language_info": {
      "name": "python"
    }
  },
  "cells": [
    {
      "cell_type": "markdown",
      "metadata": {
        "id": "view-in-github",
        "colab_type": "text"
      },
      "source": [
        "<a href=\"https://colab.research.google.com/github/AmeliaTYR/AmeliaTYR/blob/main/Demo_1_Introduction_To_Machine_Learning.ipynb\" target=\"_parent\"><img src=\"https://colab.research.google.com/assets/colab-badge.svg\" alt=\"Open In Colab\"/></a>"
      ]
    },
    {
      "cell_type": "markdown",
      "metadata": {
        "id": "GzhjmvlsBpgA"
      },
      "source": [
        "### **Demo 1: Introduction To Machine Learning**\n",
        "In this demo, you will have a taste of how Machine Learning works. We will be using a pre-trained model which we have prepared before this workshop so you don't have to wait\n",
        "\n",
        "P.S The whole training took us **20 minutes** 🙆‍♂️"
      ]
    },
    {
      "cell_type": "code",
      "metadata": {
        "id": "vXylwkaCizJm",
        "cellView": "form"
      },
      "source": [
        "#@title 👈 Step 1: Initial Setup - Click Me To Begin (Import the Trained Model and Setup)\n",
        "import shutil\n",
        "from IPython.display import clear_output\n",
        "import os\n",
        "import tensorflow as tf\n",
        "from tensorflow import keras\n",
        "print(\"Downloading DSC Cat-Dog Pre-Trained Model...Please Wait..\")\n",
        "!wget --no-check-certificate https://storage.googleapis.com/dscsgnus/cat_dog_dsc.zip --quiet\n",
        "shutil.unpack_archive('cat_dog_dsc.zip', '/cat_dog_dsc/', 'zip')\n",
        "model = tf.keras.models.load_model('/cat_dog_dsc/')\n",
        "clear_output()\n",
        "print(\"Setup Completed! Model is ready for use! ✅\")"
      ],
      "execution_count": null,
      "outputs": []
    },
    {
      "cell_type": "code",
      "metadata": {
        "id": "phYqNImk4NSI",
        "cellView": "form"
      },
      "source": [
        "#@title 👈 Step 2: Upload any Cat/Dog Images! 🐶🐱\n",
        "import numpy as np\n",
        "from IPython.display import clear_output\n",
        "from google.colab import files\n",
        "from keras.preprocessing import image\n",
        "print(f'Please upload some images. I will determine if it is a Cat or a Dog 🤖')\n",
        "uploaded=files.upload()\n",
        "clear_output()\n",
        "for fn in uploaded.keys():\n",
        "  # predicting images\n",
        "  path='/content/' + fn\n",
        "  img=image.load_img(path, target_size=(150, 150))\n",
        "  \n",
        "  x=image.img_to_array(img)\n",
        "  x=np.expand_dims(x, axis=0)\n",
        "  images = np.vstack([x])\n",
        "  \n",
        "  classes = model.predict(images, batch_size=10)\n",
        "  #print(classes[0])\n",
        "  \n",
        "  if classes[0]<0.1:\n",
        "    print(fn + \" is a dog\")\n",
        "  else:\n",
        "    print(fn + \" is a cat\")"
      ],
      "execution_count": null,
      "outputs": []
    }
  ]
}